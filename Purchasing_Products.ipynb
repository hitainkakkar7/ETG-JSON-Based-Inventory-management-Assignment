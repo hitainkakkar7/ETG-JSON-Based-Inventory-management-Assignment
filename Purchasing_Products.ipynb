{
 "cells": [
  {
   "cell_type": "markdown",
   "metadata": {
    "id": "bk2YA0Kbp20d"
   },
   "source": [
    "# Reading Inventory"
   ]
  },
  {
   "cell_type": "code",
   "execution_count": 11,
   "metadata": {
    "id": "Wzko_q6qp0mC"
   },
   "outputs": [],
   "source": [
    "import json\n",
    "\n",
    "fd = open(\"record.json\",'r')\n",
    "r = fd.read()\n",
    "fd.close()"
   ]
  },
  {
   "cell_type": "code",
   "execution_count": 12,
   "metadata": {
    "id": "eDzcoTtQqAYt"
   },
   "outputs": [],
   "source": [
    "records = json.loads(r)"
   ]
  },
  {
   "cell_type": "code",
   "execution_count": 13,
   "metadata": {
    "colab": {
     "base_uri": "https://localhost:8080/"
    },
    "id": "n0bu84-8qAah",
    "outputId": "ef53fafd-6e1a-40de-c615-7646e2b40936"
   },
   "outputs": [
    {
     "data": {
      "text/plain": [
       "{'1001': {'name': 'Choco Cake', 'pr': 100, 'qn': 34},\n",
       " '1003': {'name': 'Drink', 'pr': 85, 'qn': 100},\n",
       " '1004': {'name': 'Candy', 'pr': 5, 'qn': 1000},\n",
       " '1005': {'name': 'Pen', 'pr': 20, 'qn': 100},\n",
       " '1006': {'name': 'Phone', 'pr': 50002, 'qn': 10},\n",
       " '1007': {'name': 'Mic', 'pr': 1500, 'qn': 0},\n",
       " '1008': {'name': 'Case', 'pr': 599, 'qn': 5},\n",
       " '1009': {'name': 'Keyboard', 'pr': 1999, 'qn': 10},\n",
       " '1010': {'name': 'Mouse', 'pr': 1200, 'qn': 8},\n",
       " '1011': {'name': 'Pendrive', 'pr': 700, 'qn': 15},\n",
       " '1012': {'name': 'Pencil', 'pr': 20, 'qn': 50},\n",
       " '1013': {'name': 'Water Bottle', 'pr': 100, 'qn': 30},\n",
       " '1014': {'name': 'Notebook', 'pr': 59, 'qn': 70},\n",
       " '1015': {'name': 'Fan', 'pr': 1500, 'qn': 49},\n",
       " '1016': {'name': 'Pillow', 'pr': 300, 'qn': 29},\n",
       " '1017': {'name': 'Table', 'pr': 1000, 'qn': 100},\n",
       " '1018': {'name': 'Towel', 'pr': 699, 'qn': 110},\n",
       " '1019': {'name': 'Laptop', 'pr': 64000, 'qn': 25},\n",
       " '1020': {'name': 'Speaker', 'pr': 2500, 'qn': 10},\n",
       " '1021': {'name': 'Chair', 'pr': 700, 'qn': 200},\n",
       " '1022': {'name': 'Earphones', 'pr': 599, 'qn': 225},\n",
       " '1023': {'name': 'Bucket', 'pr': 499, 'qn': 39},\n",
       " '1024': {'name': 'Mattress', 'pr': 1300, 'qn': 5},\n",
       " '1025': {'name': 'Adapter', 'pr': 499, 'qn': 50},\n",
       " '1026': {'name': 'Pateries', 'pr': 50, 'qn': 10},\n",
       " '1027': {'name': 'Cricket Bat', 'pr': 5000, 'qn': 2},\n",
       " '1028': {'name': 'Cricket Ball', 'pr': 399, 'qn': 11},\n",
       " '1029': {'name': 'Racket', 'pr': 1100, 'qn': 25},\n",
       " '1030': {'name': 'Football', 'pr': 2000, 'qn': 10}}"
      ]
     },
     "execution_count": 13,
     "metadata": {},
     "output_type": "execute_result"
    }
   ],
   "source": [
    "records"
   ]
  },
  {
   "cell_type": "markdown",
   "metadata": {
    "id": "JGAMe01Q43mm"
   },
   "source": [
    "# Purchase"
   ]
  },
  {
   "cell_type": "code",
   "execution_count": 14,
   "metadata": {
    "colab": {
     "base_uri": "https://localhost:8080/"
    },
    "id": "vEabHNp348AO",
    "outputId": "6ba02fc7-50cc-49e6-c80a-06c920ba2894"
   },
   "outputs": [
    {
     "name": "stdout",
     "output_type": "stream",
     "text": [
      "Enter the product_Id: 1006\n",
      "Enter the quantity: 2\n",
      "Product:  Phone\n",
      "Price:  50002\n",
      "Billing Amount:  100004\n"
     ]
    }
   ],
   "source": [
    "ui_prod  = str(input(\"Enter the product_Id: \"))\n",
    "ui_quant = int(input(\"Enter the quantity: \"))\n",
    "\n",
    "\n",
    "print(\"Product: \", records[ui_prod]['name'])\n",
    "print(\"Price: \", records[ui_prod]['pr'])\n",
    "print(\"Billing Amount: \", records[ui_prod]['pr'] * ui_quant)\n",
    "\n",
    "records[ui_prod]['qn'] = records[ui_prod]['qn'] - ui_quant"
   ]
  },
  {
   "cell_type": "markdown",
   "metadata": {
    "id": "_cv4ElA45GoB"
   },
   "source": [
    "## Updating the inventory after purchase"
   ]
  },
  {
   "cell_type": "code",
   "execution_count": 15,
   "metadata": {
    "id": "-dBADUQe48QV"
   },
   "outputs": [],
   "source": [
    "js = json.dumps(records)\n",
    "\n",
    "fd = open(\"record.json\",'w')\n",
    "fd.write(js)\n",
    "fd.close()"
   ]
  },
  {
   "cell_type": "code",
   "execution_count": null,
   "metadata": {
    "id": "hkm5rL8-48bi"
   },
   "outputs": [],
   "source": []
  }
 ],
 "metadata": {
  "colab": {
   "name": "Purchasing_Products[Jigyasa Bisht].ipynb",
   "provenance": []
  },
  "kernelspec": {
   "display_name": "Python 3",
   "language": "python",
   "name": "python3"
  },
  "language_info": {
   "codemirror_mode": {
    "name": "ipython",
    "version": 3
   },
   "file_extension": ".py",
   "mimetype": "text/x-python",
   "name": "python",
   "nbconvert_exporter": "python",
   "pygments_lexer": "ipython3",
   "version": "3.8.8"
  }
 },
 "nbformat": 4,
 "nbformat_minor": 1
}
